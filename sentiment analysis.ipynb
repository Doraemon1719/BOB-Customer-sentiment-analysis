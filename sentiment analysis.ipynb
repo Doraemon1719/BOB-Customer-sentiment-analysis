{
 "cells": [
  {
   "cell_type": "code",
   "execution_count": null,
   "metadata": {},
   "outputs": [],
   "source": [
    "import os\n",
    "from google.colab import drive\n",
    "drive.mount('/content/drive')\n",
    " \n",
    "os.chdir('/content/drive/My Drive/DataFlair/Sentiment')\n",
    "!ls"
   ]
  },
  {
   "cell_type": "code",
   "execution_count": null,
   "metadata": {},
   "outputs": [],
   "source": [
    "import random\n",
    "import torch\n",
    "from torchtext.legacy import data\n",
    "from torchtext.legacy import datasets\n",
    " \n",
    "seed = 42\n",
    " \n",
    "torch.manual_seed(seed)\n",
    "torch.backends.cudnn.deterministic = True\n",
    "device = torch.device('cuda' if torch.cuda.is_available() else 'cpu')\n",
    " \n",
    "txt = data.Field(tokenize = 'spacy',\n",
    "                  tokenizer_language = 'en_core_web_sm',\n",
    "                  include_lengths = True)\n",
    " \n",
    "labels = data.LabelField(dtype = torch.float)"
   ]
  },
  {
   "cell_type": "code",
   "execution_count": null,
   "metadata": {},
   "outputs": [],
   "source": [
    "train_data, test_data = datasets.IMDB.splits(txt, labels)\n",
    "train_data, valid_data = train_data.split(random_state = random.seed(seed))\n",
    "num_words = 25_000\n",
    " \n",
    "txt.build_vocab(train_data, \n",
    "                 max_size = num_words, \n",
    "                 vectors = \"glove.6B.100d\", \n",
    "                 unk_init = torch.Tensor.normal_)\n",
    " \n",
    "labels.build_vocab(train_data)"
   ]
  },
  {
   "cell_type": "code",
   "execution_count": null,
   "metadata": {},
   "outputs": [],
   "source": [
    "btch_size = 64\n",
    " \n",
    "train_itr, valid_itr, test_itr = data.BucketIterator.splits(\n",
    "    (train_data, valid_data, test_data), \n",
    "    batch_size = btch_size,\n",
    "    sort_within_batch = True,\n",
    "    device = device)"
   ]
  },
  {
   "cell_type": "code",
   "execution_count": null,
   "metadata": {},
   "outputs": [],
   "source": [
    "import torch.nn as nn\n",
    " \n",
    "class RNN(nn.Module):\n",
    "    def __init__(self, word_limit, dimension_embedding, dimension_hidden, dimension_output, num_layers, \n",
    "                 bidirectional, dropout, pad_idx):\n",
    "        \n",
    "        super().__init__()\n",
    "        \n",
    "        self.embedding = nn.Embedding(word_limit, dimension_embedding, padding_idx = pad_idx)\n",
    "        \n",
    "        self.rnn = nn.LSTM(dimension_embedding, \n",
    "                           dimension_hidden, \n",
    "                           num_layers=num_layers, \n",
    "                           bidirectional=bidirectional, \n",
    "                           dropout=dropout)\n",
    "        \n",
    "        self.fc = nn.Linear(dimension_hidden * 2, dimension_output)\n",
    "        \n",
    "        self.dropout = nn.Dropout(dropout)\n",
    "        \n",
    "    def forward(self, text, len_txt):\n",
    "        \n",
    "        \n",
    "        embedded = self.dropout(self.embedding(text))\n",
    "               \n",
    " \n",
    "        packed_embedded = nn.utils.rnn.pack_padded_sequence(embedded, len_txt.to('cpu'))\n",
    "        \n",
    "        packed_output, (hidden, cell) = self.rnn(packed_embedded)\n",
    "        \n",
    "        output, output_lengths = nn.utils.rnn.pad_packed_sequence(packed_output)\n",
    " \n",
    "        \n",
    "        hidden = self.dropout(torch.cat((hidden[-2,:,:], hidden[-1,:,:]), dim = 1))\n",
    "                            \n",
    "        return self.fc(hidden)"
   ]
  },
  {
   "cell_type": "code",
   "execution_count": null,
   "metadata": {},
   "outputs": [],
   "source": [
    "dimension_input = len(txt.vocab)\n",
    "dimension_embedding = 100\n",
    "dimension_hddn = 256\n",
    "dimension_out = 1\n",
    "layers = 2\n",
    "bidirectional = True\n",
    "dropout = 0.5\n",
    "idx_pad = txt.vocab.stoi[txt.pad_token]\n",
    " \n",
    "model = RNN(dimension_input, \n",
    "            dimension_embedding, \n",
    "            dimension_hddn, \n",
    "            dimension_out, \n",
    "            layers, \n",
    "            bidirectional, \n",
    "            dropout, \n",
    "            idx_pad)"
   ]
  },
  {
   "cell_type": "code",
   "execution_count": null,
   "metadata": {},
   "outputs": [],
   "source": [
    "def count_parameters(model):\n",
    "    return sum(p.numel() for p in model.parameters() if p.requires_grad)\n",
    " \n",
    "print(f'The model has {count_parameters(model):,} trainable parameters')\n",
    "pretrained_embeddings = txt.vocab.vectors\n",
    " \n",
    "print(pretrained_embeddings.shape)\n",
    "unique_id = txt.vocab.stoi[txt.unk_token]\n",
    " \n",
    "model.embedding.weight.data[unique_id] = torch.zeros(dimension_embedding)\n",
    "model.embedding.weight.data[idx_pad] = torch.zeros(dimension_embedding)\n",
    " \n",
    "print(model.embedding.weight.data)"
   ]
  },
  {
   "cell_type": "code",
   "execution_count": null,
   "metadata": {},
   "outputs": [],
   "source": [
    "import torch.optim as optim\n",
    " \n",
    "optimizer = optim.Adam(model.parameters())\n",
    "criterion = nn.BCEWithLogitsLoss()\n",
    " \n",
    "model = model.to(device)\n",
    "criterion = criterion.to(device)"
   ]
  },
  {
   "cell_type": "code",
   "execution_count": null,
   "metadata": {},
   "outputs": [],
   "source": [
    "def bin_acc(preds, y):\n",
    "   \n",
    "    predictions = torch.round(torch.sigmoid(preds))\n",
    "    correct = (predictions == y).float() \n",
    "    acc = correct.sum() / len(correct)\n",
    "    return acc"
   ]
  },
  {
   "cell_type": "code",
   "execution_count": null,
   "metadata": {},
   "outputs": [],
   "source": [
    "def train(model, itr, optimizer, criterion):\n",
    "    \n",
    "    epoch_loss = 0\n",
    "    epoch_acc = 0\n",
    "    \n",
    "    model.train()\n",
    "    \n",
    "    for i in itr:\n",
    "        \n",
    "        optimizer.zero_grad()\n",
    "        \n",
    "        text, len_txt = i.text\n",
    "        \n",
    "        predictions = model(text, len_txt).squeeze(1)\n",
    "        \n",
    "        loss = criterion(predictions, i.label)\n",
    "        \n",
    "        acc = bin_acc(predictions, i.label)\n",
    "        \n",
    "        loss.backward()\n",
    "        \n",
    "        optimizer.step()\n",
    "        \n",
    "        epoch_loss += loss.item()\n",
    "        epoch_acc += acc.item()\n",
    "        \n",
    "    return epoch_loss / len(itr), epoch_acc / len(itr)\n",
    " \n",
    "def evaluate(model, itr, criterion):\n",
    "    \n",
    "    epoch_loss = 0\n",
    "    epoch_acc = 0\n",
    "    \n",
    "    model.eval()\n",
    "    \n",
    "    with torch.no_grad():\n",
    "    \n",
    "        for i in itr:\n",
    " \n",
    "            text, len_txt = i.text\n",
    "            \n",
    "            predictions = model(text, len_txt).squeeze(1)\n",
    "            \n",
    "            loss = criterion(predictions, i.label)\n",
    "            \n",
    "            acc = bin_acc(predictions, i.label)\n",
    " \n",
    "            epoch_loss += loss.item()\n",
    "            epoch_acc += acc.item()\n",
    "        \n",
    "    return epoch_loss / len(itr), epoch_acc / len(itr)"
   ]
  },
  {
   "cell_type": "code",
   "execution_count": null,
   "metadata": {},
   "outputs": [],
   "source": [
    "import time\n",
    " \n",
    "def epoch_time(start_time, end_time):\n",
    "    used_time = end_time - start_time\n",
    "    used_mins = int(used_time / 60)\n",
    "    used_secs = int(used_time - (used_mins * 60))\n",
    "    return used_mins, used_secs\n",
    "num_epochs = 5\n",
    " \n",
    "best_valid_loss = float('inf')\n",
    " \n",
    "for epoch in range(num_epochs):\n",
    " \n",
    "    start_time = time.time()\n",
    "    \n",
    "    train_loss, train_acc = train(model, train_itr, optimizer, criterion)\n",
    "    valid_loss, valid_acc = evaluate(model, valid_itr, criterion)\n",
    "    \n",
    "    end_time = time.time()\n",
    " \n",
    "    epoch_mins, epoch_secs = epoch_time(start_time, end_time)\n",
    "    \n",
    "    if valid_loss < best_valid_loss:\n",
    "        best_valid_loss = valid_loss\n",
    "        torch.save(model.state_dict(), 'tut2-model.pt')\n",
    "    \n",
    "    print(f'Epoch: {epoch+1:02} | Epoch Time: {epoch_mins}m {epoch_secs}s')\n",
    "    print(f'\\tTrain Loss: {train_loss:.3f} | Train Acc: {train_acc*100:.2f}%')\n",
    "    print(f'\\t Val. Loss: {valid_loss:.3f} |  Val. Acc: {valid_acc*100:.2f}%')"
   ]
  },
  {
   "cell_type": "code",
   "execution_count": null,
   "metadata": {},
   "outputs": [],
   "source": [
    "model.load_state_dict(torch.load('tut2-model.pt'))\n",
    " \n",
    "test_loss, test_acc = evaluate(model, test_itr, criterion)\n",
    " \n",
    "print(f'Test Loss: {test_loss:.3f} | Test Acc: {test_acc*100:.2f}%')"
   ]
  },
  {
   "cell_type": "code",
   "execution_count": null,
   "metadata": {},
   "outputs": [],
   "source": [
    "import spacy\n",
    "nlp = spacy.load('en_core_web_sm')\n",
    " \n",
    "def pred(model, sentence):\n",
    "    model.eval()\n",
    "    tokenized = [tok.text for tok in nlp.tokenizer(sentence)]\n",
    "    indexed = [txt.vocab.stoi[t] for t in tokenized]\n",
    "    length = [len(indexed)]\n",
    "    tensor = torch.LongTensor(indexed).to(device)\n",
    "    tensor = tensor.unsqueeze(1)\n",
    "    length_tensor = torch.LongTensor(length)\n",
    "    prediction = torch.sigmoid(model(tensor, length_tensor))\n",
    "    return prediction.item()"
   ]
  },
  {
   "cell_type": "code",
   "execution_count": null,
   "metadata": {},
   "outputs": [],
   "source": [
    "sent=[\"positive\",\"neutral\",\"negative\"]\n",
    "def print_sent(x):\n",
    "  if (x<0.3): print(sent[0])\n",
    "  elif (x>0.3 and x<0.7): print(sent[1])\n",
    "  else: print(sent[2])"
   ]
  },
  {
   "cell_type": "code",
   "execution_count": null,
   "metadata": {},
   "outputs": [],
   "source": [
    "print_sent(pred(model, \"This film was great\"))\n",
    "positive"
   ]
  }
 ],
 "metadata": {
  "kernelspec": {
   "display_name": "Python 3.10.2 64-bit",
   "language": "python",
   "name": "python3"
  },
  "language_info": {
   "name": "python",
   "version": "3.10.2"
  },
  "orig_nbformat": 4,
  "vscode": {
   "interpreter": {
    "hash": "42ac2bbbda3723635b4d79812a5d5c7fd30e1eda2aeaadb4b3ca1545733c2df7"
   }
  }
 },
 "nbformat": 4,
 "nbformat_minor": 2
}
